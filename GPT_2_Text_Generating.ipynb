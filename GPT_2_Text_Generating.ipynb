{
  "nbformat": 4,
  "nbformat_minor": 0,
  "metadata": {
    "colab": {
      "name": "GPT-2 Text-Generating.ipynb",
      "provenance": [],
      "collapsed_sections": [],
      "include_colab_link": true
    },
    "kernelspec": {
      "name": "python3",
      "display_name": "Python 3"
    },
    "accelerator": "GPU"
  },
  "cells": [
    {
      "cell_type": "markdown",
      "metadata": {
        "id": "view-in-github",
        "colab_type": "text"
      },
      "source": [
        "<a href=\"https://colab.research.google.com/github/yixuanwwwwwang/project/blob/main/GPT_2_Text_Generating.ipynb\" target=\"_parent\"><img src=\"https://colab.research.google.com/assets/colab-badge.svg\" alt=\"Open In Colab\"/></a>"
      ]
    },
    {
      "cell_type": "code",
      "metadata": {
        "id": "EBigY6ywQ9SG",
        "outputId": "d99b62f0-d5f1-4cb1-a7a3-340d4b3c1144",
        "colab": {
          "base_uri": "https://localhost:8080/",
          "height": 306
        }
      },
      "source": [
        "import pandas as pd\n",
        "import numpy as np\n",
        "import os\n",
        "from google.colab import drive\n",
        "drive.mount('/content/drive')\n",
        "path = \"/content/drive/My Drive\"\n",
        "os.chdir(path)\n",
        "os.listdir(path)"
      ],
      "execution_count": null,
      "outputs": [
        {
          "output_type": "stream",
          "text": [
            "Drive already mounted at /content/drive; to attempt to forcibly remount, call drive.mount(\"/content/drive\", force_remount=True).\n"
          ],
          "name": "stdout"
        },
        {
          "output_type": "execute_result",
          "data": {
            "text/plain": [
              "['data3_raw.pickle',\n",
              " 'Getting started.pdf',\n",
              " 'FE535_PROJECT1.docx',\n",
              " 'Resume_YixuanWang_new.pdf',\n",
              " 'Yixuan Wang - Resume.pdf',\n",
              " '535 presentation.gslides',\n",
              " 'Colab Notebooks',\n",
              " 'MIS 714 - 2020 Summer1',\n",
              " 'models',\n",
              " 'checkpoint',\n",
              " '.ipynb_checkpoints',\n",
              " 'reviews_train.txt',\n",
              " 'data1.txt',\n",
              " 'samples',\n",
              " 'data2.txt',\n",
              " 'checkpoint_run1.tar']"
            ]
          },
          "metadata": {
            "tags": []
          },
          "execution_count": 1
        }
      ]
    },
    {
      "cell_type": "code",
      "metadata": {
        "id": "WbJUSQvQRTNz"
      },
      "source": [
        "data = pd.read_pickle(\"data3_raw.pickle\") "
      ],
      "execution_count": null,
      "outputs": []
    },
    {
      "cell_type": "code",
      "metadata": {
        "id": "ozWGvqcMVDn0",
        "outputId": "f95579da-d6d6-4c48-80a7-92fb1cdd4212",
        "colab": {
          "base_uri": "https://localhost:8080/",
          "height": 289
        }
      },
      "source": [
        "data.head()"
      ],
      "execution_count": null,
      "outputs": [
        {
          "output_type": "execute_result",
          "data": {
            "text/html": [
              "<div>\n",
              "<style scoped>\n",
              "    .dataframe tbody tr th:only-of-type {\n",
              "        vertical-align: middle;\n",
              "    }\n",
              "\n",
              "    .dataframe tbody tr th {\n",
              "        vertical-align: top;\n",
              "    }\n",
              "\n",
              "    .dataframe thead th {\n",
              "        text-align: right;\n",
              "    }\n",
              "</style>\n",
              "<table border=\"1\" class=\"dataframe\">\n",
              "  <thead>\n",
              "    <tr style=\"text-align: right;\">\n",
              "      <th></th>\n",
              "      <th>Innov_Id</th>\n",
              "      <th>Conference_ID</th>\n",
              "      <th>Conference_Name</th>\n",
              "      <th>Round_Type</th>\n",
              "      <th>Round_Number</th>\n",
              "      <th>Number_of_Paragraphs</th>\n",
              "      <th>Person_Name</th>\n",
              "      <th>Person_Title</th>\n",
              "      <th>Person_Company</th>\n",
              "      <th>Text</th>\n",
              "    </tr>\n",
              "  </thead>\n",
              "  <tbody>\n",
              "    <tr>\n",
              "      <th>0</th>\n",
              "      <td>1</td>\n",
              "      <td>20170401-20170504-1</td>\n",
              "      <td>Full Year 2016 MicroPort Scientific Corp Earni...</td>\n",
              "      <td>Presentation</td>\n",
              "      <td>1</td>\n",
              "      <td>2</td>\n",
              "      <td>OPERATOR</td>\n",
              "      <td>NaN</td>\n",
              "      <td>NaN</td>\n",
              "      <td>Ladies and gentlemen, thank you for standing b...</td>\n",
              "    </tr>\n",
              "    <tr>\n",
              "      <th>1</th>\n",
              "      <td>2</td>\n",
              "      <td>20170401-20170504-1</td>\n",
              "      <td>Full Year 2016 MicroPort Scientific Corp Earni...</td>\n",
              "      <td>Presentation</td>\n",
              "      <td>2</td>\n",
              "      <td>2</td>\n",
              "      <td>JESSICA LI</td>\n",
              "      <td>ANALYST</td>\n",
              "      <td>BANK OF AMERICA MERRILL LYNCH</td>\n",
              "      <td>Good morning and good evening, everyone. Thank...</td>\n",
              "    </tr>\n",
              "    <tr>\n",
              "      <th>2</th>\n",
              "      <td>3</td>\n",
              "      <td>20170401-20170504-1</td>\n",
              "      <td>Full Year 2016 MicroPort Scientific Corp Earni...</td>\n",
              "      <td>Presentation</td>\n",
              "      <td>3</td>\n",
              "      <td>23</td>\n",
              "      <td>JONATHAN CHEN</td>\n",
              "      <td>SVP, INTERNATIONAL BUSINESS OPERATIONS &amp; &amp; IR</td>\n",
              "      <td>MICROPORT SCIENTIFIC CORPORATION</td>\n",
              "      <td>Thank you Jessica. Good morning and good eveni...</td>\n",
              "    </tr>\n",
              "    <tr>\n",
              "      <th>3</th>\n",
              "      <td>4</td>\n",
              "      <td>20170401-20170504-1</td>\n",
              "      <td>Full Year 2016 MicroPort Scientific Corp Earni...</td>\n",
              "      <td>Presentation</td>\n",
              "      <td>4</td>\n",
              "      <td>27</td>\n",
              "      <td>MARTIN SUN</td>\n",
              "      <td>CFO</td>\n",
              "      <td>MICROPORT SCIENTIFIC CORPORATION</td>\n",
              "      <td>Thanks, Jonathan, and hello everyone, good mor...</td>\n",
              "    </tr>\n",
              "    <tr>\n",
              "      <th>4</th>\n",
              "      <td>5</td>\n",
              "      <td>20170401-20170504-1</td>\n",
              "      <td>Full Year 2016 MicroPort Scientific Corp Earni...</td>\n",
              "      <td>Presentation</td>\n",
              "      <td>5</td>\n",
              "      <td>1</td>\n",
              "      <td>JESSICA LI</td>\n",
              "      <td>ANALYST</td>\n",
              "      <td>BANK OF AMERICA MERRILL LYNCH</td>\n",
              "      <td>Thank you so much. Thanks Jonathan and Martin ...</td>\n",
              "    </tr>\n",
              "  </tbody>\n",
              "</table>\n",
              "</div>"
            ],
            "text/plain": [
              "   Innov_Id  ...                                               Text\n",
              "0         1  ...  Ladies and gentlemen, thank you for standing b...\n",
              "1         2  ...  Good morning and good evening, everyone. Thank...\n",
              "2         3  ...  Thank you Jessica. Good morning and good eveni...\n",
              "3         4  ...  Thanks, Jonathan, and hello everyone, good mor...\n",
              "4         5  ...  Thank you so much. Thanks Jonathan and Martin ...\n",
              "\n",
              "[5 rows x 10 columns]"
            ]
          },
          "metadata": {
            "tags": []
          },
          "execution_count": 3
        }
      ]
    },
    {
      "cell_type": "code",
      "metadata": {
        "id": "-zxfY-DKUZXF",
        "outputId": "146586dd-a1f6-40af-ee7e-711b87d42c8c",
        "colab": {
          "base_uri": "https://localhost:8080/",
          "height": 221
        }
      },
      "source": [
        "data[\"Text\"]"
      ],
      "execution_count": null,
      "outputs": [
        {
          "output_type": "execute_result",
          "data": {
            "text/plain": [
              "0         Ladies and gentlemen, thank you for standing b...\n",
              "1         Good morning and good evening, everyone. Thank...\n",
              "2         Thank you Jessica. Good morning and good eveni...\n",
              "3         Thanks, Jonathan, and hello everyone, good mor...\n",
              "4         Thank you so much. Thanks Jonathan and Martin ...\n",
              "                                ...                        \n",
              "247945    I wouldn't say that there are many opportuniti...\n",
              "247946                      Okay. Thank you very much, Ole.\n",
              "247947    As there are no further questions in the queue...\n",
              "247948    Thank you. I would like to thank everyone for ...\n",
              "247949    That will conclude today's conference call. Th...\n",
              "Name: Text, Length: 4973499, dtype: object"
            ]
          },
          "metadata": {
            "tags": []
          },
          "execution_count": 4
        }
      ]
    },
    {
      "cell_type": "code",
      "metadata": {
        "id": "OQ5RkIOGbDUR"
      },
      "source": [
        "d = data.loc[data.Person_Title=='ANALYST'][:100000]"
      ],
      "execution_count": null,
      "outputs": []
    },
    {
      "cell_type": "code",
      "metadata": {
        "id": "Cin2iWhzbSpy"
      },
      "source": [
        "d1 = d.loc[d.Round_Type=='Presentation']"
      ],
      "execution_count": null,
      "outputs": []
    },
    {
      "cell_type": "code",
      "metadata": {
        "id": "sL7-bCHCVBnp"
      },
      "source": [
        "d2 = d.loc[d.Round_Type=='Q&A']"
      ],
      "execution_count": null,
      "outputs": []
    },
    {
      "cell_type": "code",
      "metadata": {
        "id": "IOJjHHujfeFu"
      },
      "source": [
        "sentence = d2.Text.tolist()"
      ],
      "execution_count": null,
      "outputs": []
    },
    {
      "cell_type": "code",
      "metadata": {
        "id": "Ewi_TTyKvjxi"
      },
      "source": [
        "file=open('data2.txt','w')\n",
        "for line in sentence:\n",
        "  file.write(str(line)+'\\n');\n",
        "file.close()"
      ],
      "execution_count": null,
      "outputs": []
    },
    {
      "cell_type": "code",
      "metadata": {
        "id": "qHXh6shjwV9m"
      },
      "source": [
        ""
      ],
      "execution_count": null,
      "outputs": []
    },
    {
      "cell_type": "code",
      "metadata": {
        "id": "n1Xo4QXBgvrV"
      },
      "source": [
        ""
      ],
      "execution_count": null,
      "outputs": []
    },
    {
      "cell_type": "code",
      "metadata": {
        "id": "L8OlIkBqdU4o",
        "outputId": "43836605-6137-4301-b27d-91a6b640b6e6",
        "colab": {
          "base_uri": "https://localhost:8080/",
          "height": 170
        }
      },
      "source": [
        "%tensorflow_version 1.x\n",
        "!pip install -q gpt-2-simple\n",
        "import gpt_2_simple as gpt2\n",
        "from datetime import datetime"
      ],
      "execution_count": null,
      "outputs": [
        {
          "output_type": "stream",
          "text": [
            "TensorFlow 1.x selected.\n",
            "WARNING:tensorflow:\n",
            "The TensorFlow contrib module will not be included in TensorFlow 2.0.\n",
            "For more information, please see:\n",
            "  * https://github.com/tensorflow/community/blob/master/rfcs/20180907-contrib-sunset.md\n",
            "  * https://github.com/tensorflow/addons\n",
            "  * https://github.com/tensorflow/io (for I/O related ops)\n",
            "If you depend on functionality not listed there, please file an issue.\n",
            "\n"
          ],
          "name": "stdout"
        }
      ]
    },
    {
      "cell_type": "code",
      "metadata": {
        "id": "VvpBN0HjcXmJ",
        "outputId": "bf0e72ce-5604-44bb-d30a-5080907b63d1",
        "colab": {
          "base_uri": "https://localhost:8080/",
          "height": 306
        }
      },
      "source": [
        "!nvidia-smi"
      ],
      "execution_count": null,
      "outputs": [
        {
          "output_type": "stream",
          "text": [
            "Tue Jun  2 22:11:28 2020       \n",
            "+-----------------------------------------------------------------------------+\n",
            "| NVIDIA-SMI 440.82       Driver Version: 418.67       CUDA Version: 10.1     |\n",
            "|-------------------------------+----------------------+----------------------+\n",
            "| GPU  Name        Persistence-M| Bus-Id        Disp.A | Volatile Uncorr. ECC |\n",
            "| Fan  Temp  Perf  Pwr:Usage/Cap|         Memory-Usage | GPU-Util  Compute M. |\n",
            "|===============================+======================+======================|\n",
            "|   0  Tesla P100-PCIE...  Off  | 00000000:00:04.0 Off |                    0 |\n",
            "| N/A   43C    P0    27W / 250W |      0MiB / 16280MiB |      0%      Default |\n",
            "+-------------------------------+----------------------+----------------------+\n",
            "                                                                               \n",
            "+-----------------------------------------------------------------------------+\n",
            "| Processes:                                                       GPU Memory |\n",
            "|  GPU       PID   Type   Process name                             Usage      |\n",
            "|=============================================================================|\n",
            "|  No running processes found                                                 |\n",
            "+-----------------------------------------------------------------------------+\n"
          ],
          "name": "stdout"
        }
      ]
    },
    {
      "cell_type": "code",
      "metadata": {
        "id": "ZREEtXvrfSlC",
        "outputId": "0046b4e4-d4cb-4dbf-fcc4-a7fb0f1a5089",
        "colab": {
          "base_uri": "https://localhost:8080/",
          "height": 136
        }
      },
      "source": [
        "gpt2.download_gpt2(model_name=\"124M\")"
      ],
      "execution_count": null,
      "outputs": [
        {
          "output_type": "stream",
          "text": [
            "Fetching checkpoint: 1.05Mit [00:00, 375Mit/s]                                                      \n",
            "Fetching encoder.json: 1.05Mit [00:00, 107Mit/s]                                                    \n",
            "Fetching hparams.json: 1.05Mit [00:00, 314Mit/s]                                                    \n",
            "Fetching model.ckpt.data-00000-of-00001: 498Mit [00:04, 122Mit/s]                                   \n",
            "Fetching model.ckpt.index: 1.05Mit [00:00, 238Mit/s]                                                \n",
            "Fetching model.ckpt.meta: 1.05Mit [00:00, 161Mit/s]                                                 \n",
            "Fetching vocab.bpe: 1.05Mit [00:00, 178Mit/s]                                                       \n"
          ],
          "name": "stderr"
        }
      ]
    },
    {
      "cell_type": "code",
      "metadata": {
        "id": "G4K0K1sMboaM"
      },
      "source": [
        ""
      ],
      "execution_count": null,
      "outputs": []
    },
    {
      "cell_type": "code",
      "metadata": {
        "id": "7gr2OBKBjVQr"
      },
      "source": [
        "from google.colab import files\n",
        "file_name = \"data2.txt\"\n"
      ],
      "execution_count": null,
      "outputs": []
    },
    {
      "cell_type": "code",
      "metadata": {
        "id": "aJpDJ40acHpO",
        "outputId": "ea5f1ffc-9fd2-414a-f720-ba7bbfc0829f",
        "colab": {
          "base_uri": "https://localhost:8080/",
          "height": 1000
        }
      },
      "source": [
        "sess = gpt2.start_tf_sess()\n",
        "\n",
        "gpt2.finetune(sess,\n",
        "              dataset=file_name,\n",
        "              model_name='124M',\n",
        "              steps=1000,\n",
        "              restore_from='fresh',\n",
        "              run_name='run1',\n",
        "              print_every=10,\n",
        "              sample_every=100,\n",
        "              save_every=500,\n",
        "              overwrite = True\n",
        "              )"
      ],
      "execution_count": null,
      "outputs": [
        {
          "output_type": "stream",
          "text": [
            "WARNING:tensorflow:From /usr/local/lib/python3.6/dist-packages/gpt_2_simple/src/sample.py:17: where (from tensorflow.python.ops.array_ops) is deprecated and will be removed in a future version.\n",
            "Instructions for updating:\n",
            "Use tf.where in 2.0, which has the same broadcast rule as np.where\n",
            "Loading checkpoint models/124M/model.ckpt\n",
            "INFO:tensorflow:Restoring parameters from models/124M/model.ckpt\n"
          ],
          "name": "stdout"
        },
        {
          "output_type": "stream",
          "text": [
            "\r  0%|          | 0/1 [00:00<?, ?it/s]"
          ],
          "name": "stderr"
        },
        {
          "output_type": "stream",
          "text": [
            "Loading dataset...\n"
          ],
          "name": "stdout"
        },
        {
          "output_type": "stream",
          "text": [
            "100%|██████████| 1/1 [00:24<00:00, 24.46s/it]\n"
          ],
          "name": "stderr"
        },
        {
          "output_type": "stream",
          "text": [
            "dataset has 5310172 tokens\n",
            "Training...\n",
            "[10 | 19.20] loss=3.40 avg=3.40\n",
            "[20 | 31.75] loss=3.30 avg=3.35\n",
            "[30 | 44.29] loss=3.20 avg=3.30\n",
            "[40 | 56.81] loss=3.07 avg=3.24\n",
            "[50 | 69.34] loss=3.16 avg=3.23\n",
            "[60 | 81.87] loss=3.22 avg=3.23\n",
            "[70 | 94.38] loss=3.06 avg=3.20\n",
            "[80 | 106.91] loss=3.20 avg=3.20\n",
            "[90 | 119.45] loss=3.09 avg=3.19\n",
            "[100 | 131.98] loss=3.02 avg=3.17\n",
            "======== SAMPLE 1 ========\n",
            ". It wasn't something on the margin we talked about at all, which was just a little bit of a disappointment. I'd appreciate it. I'll try to parse that again. You mentioned a couple of months ago that you're looking to increase production up on your core production. What's the expectation for that volume going forward going forward, and the expectation for it going forward?\n",
            "Okay. All right, that's it. I appreciate it. Just to clarify, it's a bit of a tough call, especially considering that there would be a lot of issues in the first quarter of the year and then a lot of the growth potential to come on. But in any way, would you say to a prospective buyer that you will give that more consideration? Or is that something a little more limited, so that you don't want any further impact?\n",
            "Okay. Great. I appreciate it. And just two questions just given in terms of what you're doing. I think you had mentioned some of the growth potential that you have out there. I was just trying to parse that a little bit. It sounds like they're just seeing a little bit of slowdown coming on, but just in terms of the other revenue growth, you still have a lot of growth potential. Is that a realistic goal of what you are expecting going forward based on what you see in the market right now? Or the other revenue growth, is it just the growth on the margins that is a little bit a little bit too large and too small?\n",
            "Okay. Thanks for the color, guys.\n",
            "Hi, great, thanks for taking my questions. Just a couple on the F-2 engine. And the first one on that, one big question, is there some potential for a different fuel? And I guess, the second one I guess, one big question on the new turbos. You mentioned a number of engines coming off commercial production in North America. Just thinking about that, what else do you think you could potentially increase that production for -- that is going to be competitive relative to commercial?\n",
            "Great.\n",
            "Okay. So just a question for you on the F-15. I guess the question is about the F-35. I guess it's the last thing you think of as a competitor. And I think you have said that the F-35 is in the market for a significant number of new commercial engines, and you are looking very strong there.\n",
            "Okay. Thank you.\n",
            "Hello, guys. Could you give us some color about what you are doing in North America that is competing with commercial engines? How that compares to commercial engines in the rest of the fleet?\n",
            "Okay. And then just one follow-up for the Q6. You are talking about the $35 million to $38.7 million revenue growth in Q5. So just one question, if I may. Have you taken any sales -- have you taken any sales on line?\n",
            "Okay.\n",
            "But you did not take any sales on line?\n",
            "Yes.\n",
            "Okay. And then just in terms of growth for the current year?\n",
            "Okay.\n",
            "Okay. So just a couple on the F-18. Just on the F-35. Do you think that any of these plans are sustainable given the $35 million to $38.7 million revenue, plus that the F-18 is going to be going through the same business? Is the assumption to be sustainable?\n",
            "Okay. So what about the Nighthawk? Do you think that's going to be sustainable?\n",
            "And then just one follow-up for the F-18. I know you are talking about the $2.6 million, but can you give us a little bit more detail on that?\n",
            "Okay. I'll start with the F-18s, because I think we're talking about it.\n",
            "That's helpful. And I wonder if you can just give us a bit of a little bit more detail on what you're getting from F-18s and how you're buying them, if you will.\n",
            "Okay. I'll begin with the F-35. What kind of size do you expect to produce this year? And how close might you expect to make that F-35 to your F-16?\n",
            "Okay.\n",
            "Okay. Thanks, guys.\n",
            "Thanks for taking my question. I wanted you to try your M&A, for sure. There's an opportunity here for that to evolve. And would I agree that some of the new acquisitions would be incremental acquisition by the end of next year, or that we could get a little bit longer notice -- or perhaps delay it more?\n",
            "Okay. And then just trying to get a little bit more color on the F-18 engines this year. Could you give us a bit more color on the F-17 engines to look at? And what's up on the F-18 that you're thinking might benefit from these upgrades?\n",
            "Got it. And maybe I'm asking it a little harder. Are any of the engines you\n",
            "\n",
            "[110 | 155.49] loss=3.14 avg=3.17\n",
            "[120 | 168.02] loss=2.99 avg=3.15\n",
            "[130 | 180.55] loss=3.20 avg=3.16\n",
            "[140 | 193.10] loss=3.18 avg=3.16\n",
            "[150 | 205.65] loss=3.09 avg=3.15\n",
            "[160 | 218.16] loss=2.95 avg=3.14\n",
            "[170 | 230.69] loss=2.99 avg=3.13\n",
            "[180 | 243.24] loss=3.02 avg=3.12\n",
            "[190 | 255.76] loss=3.12 avg=3.12\n",
            "[200 | 268.34] loss=3.05 avg=3.12\n",
            "======== SAMPLE 1 ========\n",
            "cellally we can go into and discuss the different systems inefficiencies? And just what's the underlying operating cash flow for the two systems?\n",
            "Great. And then just lastly on the C&I side and the impact of lower margin, as you mentioned I'm curious if you could help us understand how you're thinking about that on a year-to-year basis. I would think that lower margin would be a positive contributor, especially as you look at your portfolio and looking at the C&I business.I was curious what your outlook for the growth you're going to see with your $1.2 billion of business in 2017. Was there anything specific that would make us change gears or just feel confident to continue to see positive results as we go forward and potentially drive the Company through 2017 and into 2018 and beyond?\n",
            "So you think that you can make incremental investment in this business relative to what you currently are?\n",
            "Yes?\n",
            "Great. Thank you.\n",
            "Good morning guys. So on the C&I side, we're looking at the $80 million to $100 million operating cash flow this year, that would be helpful given that there's some higher margins on the C&I side and you've been able to get a little bit of it in the past. So just to be clear, given the current growth, just how should we think about your outlook with the C&I side going forward, the Company would be more active today on that?\n",
            "And what are the main drivers here for the operating cash flow in 2017 in terms of both the margin level and the margin level of the businesses?\n",
            "Okay. On the cost-controlling expense of the C&I side, can you just talk a little bit about that and how much of that was actually for a share benefit? If you can give us a little bit more detail on that, can we expect a share dividend, or whether it would be different from the dividend income?\n",
            "Okay. Thank you.\n",
            "So can you just talk to a little bit about the new initiative initiative of the Company and how you're thinking about the level? Just a little bit of help with the kind of margin levels and how you look forward?\n",
            "Good morning, everyone. So you mentioned that the overall C&I businesses in the US and internationally are up by about $800 million. Can you just kind of talk a little bit about what that level is, where are you expecting some of that to be with the growth this year as it stands?\n",
            "Great. Thank you for that.\n",
            "Great. So on the C&I side, as we look at some of your C&I businesses you're seeing a decline in the margins that we can see and then you've seen a change in the growth that you can sustain, and the reason is obviously the decline in margins and it's probably getting worse from here.So just wondering what you're seeing at the margin level in terms of your outlook in 2017 and as far as how you are viewing the outlook? How much is kind of in the $1.0 billion to $1.2 billion that's potentially in excess as we look at the year?\n",
            "Okay. Got it. And then just one last clarification, on top of the C&I level expansion with the C&I category. Just curious, as you think about the growth in the revenue of the three businesses you're referring to but the core business is up $12 million, as you think about the overall C&I business in the first half of the year and the year ahead that you will be seeing your total C&I operating cash flow to come down, how do you think about those three to four businesses as going forward?\n",
            "Okay. And just one more side question on the cost-controlling expenses of the business. Just curious, given the current growth and the potential growth there but still at around 100 basis points, how would you think about that? Would you feel like that growth could continue over the next couple quarters, maybe if we have that first half of the year.\n",
            "Okay. And just one last question. Just so you're aware, on your C&I side, you guys have seen the impact of increased margin on growth in the cost-controlling expense side of the business but I am curious, given a couple of the big brands you've worked with and you'll likely see some kind of lower margin, how much of that is just as a matter of margin? And just trying to understand, would you think about margins on a year-to-year basis as they're trending in the right direction? I'm just trying to understand, would you anticipate any change in cost-controlling expenses?\n",
            "Okay. Great. Thank you.\n",
            "Yes. Thanks. Good morning.\n",
            "First, so the C&I side, there's more investment being put into the margins area, I would think that in 2017 and particularly in the second half of the year you will generate a positive amount or you could get the same number if\n",
            "\n",
            "[210 | 290.51] loss=3.06 avg=3.12\n",
            "[220 | 303.04] loss=3.02 avg=3.11\n",
            "[230 | 315.56] loss=3.07 avg=3.11\n",
            "[240 | 328.07] loss=3.09 avg=3.11\n",
            "[250 | 340.63] loss=3.07 avg=3.11\n",
            "[260 | 353.18] loss=3.24 avg=3.11\n",
            "[270 | 365.70] loss=2.92 avg=3.10\n",
            "[280 | 378.21] loss=2.93 avg=3.10\n",
            "[290 | 390.78] loss=2.96 avg=3.09\n",
            "[300 | 403.31] loss=3.05 avg=3.09\n",
            "======== SAMPLE 1 ========\n",
            "\n",
            "Well, I was just kind of wondering whether or not that's fair.\n",
            "Great. That's helpful. Then just one more. Just lastly on the tax rate -- obviously the tax rate is very attractive for some companies, even though some of them will benefit more than others. But you did talk that around the margins. What would you think -- would you go back and make it harder for the company who would gain some margins to gain some profits? That's a question.\n",
            "Good morning.\n",
            "I wanted to start on the margin. A couple on the net interest margins. What sort of guidance are you offering and your thought process? Is it something that was part of your thinking before you made the guidance?\n",
            "Okay great. And then, another question on the margin. Is the $20 million of -- some of this is offsetting the $12 million you have on the margin. If you could give some color on those or maybe I missed in that guidance what those are to the margin? Can you provide what they are?\n",
            "Great. Thank you.\n",
            "Good morning.\n",
            "So I'm wondering, what is the expectation for margin expansion, I think was the assumption that $100 million of expansion cost of capital in fiscal year 2014 was in the $18 million range and I am curious, is that what the actual $20 million of ramp would be?\n",
            "Okay. And then my follow-up question. With the other revenue drivers that you mentioned, are these new opportunities that you think might grow in the second half of this year or will you do the same thing this year? Obviously you're still a pretty big company. You have many things that you are bringing on line, many moving pieces. But the last three, six months of last year, I remember just you guys kind of talking about [three different] big players -- or maybe not so big, but some moving pieces that are getting integrated. What is your level of optimism about this year?\n",
            "Okay. And last question, on the tax rate, I think in 2015, it came down pretty modestly. If I remember correctly, you were pretty much flat on the first-half. I was just wondering what you're thinking right now. Do you feel like you have the tax rate that's coming down, that you just see that coming down or are you kind of looking at this as a bigger tax issue or how should we think about the impact to the margin, it's more or less flat with the tax rate going down, obviously you're not in the single digit. How should we think about the impact on the margin to the tax rate and to the benefit you've been anticipating for the years -- or to the corporate income tax rate?\n",
            "Perfect. Thank you very much.\n",
            "Good morning, everyone.\n",
            "Hey, guys.\n",
            "When I look at your [Coca-Cola] acquisition in the past, it was fairly flat. It came down from a pretty strong [9] to less than a [4] basis point. So you are doing very interesting, but it looks like your investment in North America is still very strong. Can you talk about what the -- where does the investment be and how large of an acquisition should be?\n",
            "And just my other question, if I look at the [Totals'] acquisition in the past, it was about double. Are there different ways to look at the [Totals] acquisition right now, or is that more of what I was expecting?\n",
            "It is a very large decision. You made the deal. It's a very large investment. Are there other factors that drove this decision that make the [Totals'] decision to go back and spend another year at its former size?\n",
            "Great. Thank you. That's my last couple of questions. I know I'm not completely clear, but just given your comments of some of the challenges that you were facing early and what sort of visibility you have into the future, how realistic is the [Totals] option for the future if I say this right?\n",
            "Good morning guys. What was the last thing you had talked about? Because you made it up. Was it on the presentation or the slides?\n",
            "Good morning, guys. Last one for me, is this about the potential impact on capital allocation, is capital allocation going to be at a low level in 2016, what kind of a trajectory do you see for capital allocation in 2017?\n",
            "I'm just trying to clarify how to think about capital allocation, what do you expect to see for capital allocation? I believe I read a [Sciutritional] deal that you made and then you guys [announced] a couple of new product launches in the quarter and I guess some of the underlying trends of the sales force are there?\n",
            "Great. Thank you.\n",
            "Good morning guys, thank you for the comment. So I just want to go through on the CapEx for the US, it's very strong to the core. If I strip out the North American in the last\n",
            "\n",
            "[310 | 425.41] loss=2.99 avg=3.09\n",
            "[320 | 437.94] loss=2.92 avg=3.08\n",
            "[330 | 450.44] loss=3.00 avg=3.08\n",
            "[340 | 463.00] loss=3.11 avg=3.08\n",
            "[350 | 475.52] loss=3.21 avg=3.08\n",
            "[360 | 488.08] loss=3.14 avg=3.08\n",
            "[370 | 500.64] loss=2.88 avg=3.08\n",
            "[380 | 513.17] loss=3.03 avg=3.08\n",
            "[390 | 525.69] loss=2.88 avg=3.07\n",
            "[400 | 538.23] loss=3.14 avg=3.07\n",
            "======== SAMPLE 1 ========\n",
            " and you have the potential to grow a couple of them. How do you think about that growth going forward? The question is is I am sure that you have this ability to, I am assuming it would be in a couple of cities, and where do you anticipate you would be?\n",
            "Okay, that is helpful. The other question is I think it was related to, you talked about an acquisition plan that was recently filed, as well as an expectation for some of the larger markets where your sales force would probably be, if you get the opportunity. What is that like in terms of potential timing and kind of where you are in terms of where that might take place?\n",
            "How about as to the -- you had mentioned where you are in relation to how much you are likely to be able to get or how much it may take to get out of those markets?\n",
            "Okay. And then in terms of -- in terms of this acquisition, I think you also mentioned a $300 million to $360 million of capital spending to acquire a portion of that and have a portion of that return from this transaction. How is that modeling going with that plan?\n",
            "Okay, perfect. And as to the overall debt on the balance sheet for 2015, are you going to keep that number or is this going to grow out based upon some of the assets being sold?\n",
            "Okay, and then switching over to a couple of others here as well, can you comment on if -- if you would like -- if you could, what kind of -- if you would like us to think about the cadence for 2015?\n",
            "Then switching to the -- the -- the -- it looks like --\n",
            "But, just so we can understand, you guys obviously, have a good base and a good core. But if we think about the other -- you're -- you talked about acquisitions, but if we think the overall base is around $500 million a year, the other quarter, it would mean that -- I'll ask three questions. So the first is, in your presentation you've given a full-year guidance on the cash distribution and the rest of it is still sort of -- what? I mean, we have got a couple of months -- maybe a full year of the debt and some of sort of -- it looks a little light on cash. So then then the second question is if we look at how we might move through 2014 on the revenue side, if there is a higher level of revenue from that quarter compared to what you have seen the last couple years as we move through 2014. But if we are at a lower level where you could potentially move into 2015 then maybe there is no way for us to know.\n",
            "Okay, and then just last. Thanks very much for asking. And thanks again to Bob for taking my questions. Just the last question I would like to ask is, can you help us understand the cadence of what has actually been a fairly steep trajectory going throughout 2014 that you are seeing today and if we are kind of modeling that with what the -- as we look at the numbers for the fourth quarter, what is not in your numbers from a historical perspective. Are you saying that there has not been -- or we are kind of modeling for a lower cadence from this quarter for that portion of the revenue progression with what's been the lower run rate that has been your revenue, is this something that could help us to think about the next two -- three quarters or so going forward?\n",
            "Okay, just for you, Bob. I would like to follow up on that last question. How does the operating margins look in 2014 and how do you think about the operating margins for next year as a percent of revenues? I hear you calling out a lower operating profit for the Company. Just how do we think about that right through? And then maybe can you help us understand, if I understand correctly, if -- when you were talking about -- where the Company's in the past was maybe less profitable for you but you grew the Company back into the top 10 percent of revenues? And was it just a result of --?\n",
            "If you can talk a little bit about the operating outlook for 2015, you mentioned about $1.4 billion of incremental operating margin, but I am wondering if there is any major opportunity to grow this -- on the corporate side of things as you go out into 2015 or is the Company still -- it seems like it's very broad-based and there is a great mix there. Just kind of your outlook on revenues and growth going forward, if anything. And then the other thing here about the growth in your operating margin.\n",
            "Okay, that is very helpful. And then with the $1.5 billion or $1.6 billion revenue guidance, is a little bit of a surprise given the fact that your revenue is up at least about 18% versus the Company from the last quarter. What is the -- are there trends that are changing your outlook on what is more of a high range of revenue growth versus what seems to be a little bit higher growth trends that were\n",
            "\n",
            "[410 | 560.30] loss=2.90 avg=3.07\n",
            "[420 | 572.84] loss=3.12 avg=3.07\n",
            "[430 | 585.37] loss=2.91 avg=3.06\n",
            "[440 | 597.90] loss=3.19 avg=3.07\n",
            "[450 | 610.43] loss=3.02 avg=3.07\n",
            "[460 | 622.98] loss=2.99 avg=3.06\n",
            "[470 | 635.51] loss=2.93 avg=3.06\n",
            "[480 | 648.08] loss=3.06 avg=3.06\n",
            "[490 | 660.60] loss=2.92 avg=3.06\n",
            "[500 | 673.13] loss=2.93 avg=3.05\n",
            "Saving checkpoint/run1/model-500\n",
            "======== SAMPLE 1 ========\n",
            " but I will try not to use all the numbers there.\n",
            "And then, maybe, just a last question. I think you said, the business was growing faster, but so is the business growing at a rate faster than expected. Do you think that you are in control of that because you are going to be on call as fast as you possibly can to drive that growth? Or maybe you were going to be on call as fast as you are going to be driving that growth?\n",
            "I'm sorry. I meant the operating income was down in the third quarter for the business.\n",
            "And the last question for Mr. Zetkin, if I may go back to the first one in your prepared comments. You guys have talked in the past about what your expectations for growth are for the entire commercial real estate asset base. Obviously, there are some guys who have done so, just wondering. Maybe just talk to them a little bit longer about what that growth expectation is for the rest of the space.\n",
            "I was just wondering if you can give us a little bit of more of a run-up estimate of what the real estate cost has been to just a little bit above this year. And how much of that may be offset by the increased rent and lease costs and maybe price increases you might have had previously.\n",
            "Great, thanks so much.\n",
            "Great. Thanks a lot for taking the question. I just wanted to start with the acquisition side of the business. In terms of your acquisition portfolio, you gave a little more of a view on the business, but I'm not sure I'm comfortable -- is it in terms of the $10 million to $12 million that you have. So is there anything that's been -- the acquisition costs on the acquisition side of the business may be higher than what you have in the acquisition portfolio.\n",
            "And then, second question is, I know that the Company has a new Chairman and CEO on the Board in December. I was just wondering if you guys could provide a little more detail around the potential for the -- potentially the impact on the Company given the -- the potential for the Board to -- I'm curious what the potential for the Company going forward, and what you have learned about the Company from previous directors.\n",
            "Hi, good morning everyone. Thanks for taking my questions. My first question is on the operating income and expenses, it was $13 million to $16 million, I think. So the $8 million in expenses was $20 million increase from last year. So, how does that change for 2017? When you make those adjustments, I think the $7 million is the same number for 2017.\n",
            "Thank you. And then, just as an additional question around operating expense. If you could, if you could, just how much of that is a benefit to shareholders and what that does to the Company over the long term? And then, what you could say to shareholders to keep that $7 million to $8 million in the mix in 2017?\n",
            "And then I guess one last question, I think you mentioned $5 million change in 2017 expense for 2017. Can you give us some sense of what that would be?\n",
            "Thank you.\n",
            "Hello. Welcome to the Analyst Day, congratulations on a nice quarter and just a question on the -- on the balance sheet. The question I didn't get on the Analyst Day was just the net equity margin. I know you had a pretty solid net equity margin last year. Just curious when might that be able to be flat, and what is at hand on that margin, if any, with those large deals?\n",
            "And then, just one housekeeping question from last year, the $50 million investment you had done, it wasn't part of the full-year guidance. Should we consider $75 million of investment this year? If so, should we exclude from that?\n",
            "Thank you. And last question is just on the revenue side, if you can give us a sense of how you see revenue in 2017 in terms of what revenue you are expecting and where you expect revenue to be?\n",
            "Hello, everyone.\n",
            "Hey, this is Dan Leiter on for Patrick.\n",
            "Can you give us any update on your 2017 guidance for revenue versus revenue?\n",
            "Okay, thanks. So, I just wanted to circle a few things. First off, I see that $13 million in operating income is a little bit lower than what you said in the earnings call, but I thought your numbers were a little bit better.So should we assume that in terms of what you're expecting from revenues, that that $13 million is sort of a $50 million run rate for -- for 2017?\n",
            "Okay, great. And you're basically saying that you've got a 10% net margin increase. And that seems to be a good run rate.So you're saying that $14 million in 2017, and I'm just trying to see, are there other expenses in that number?\n",
            "Okay. That's great. And then two quick questions, just quickly on your North America\n",
            "\n",
            "[510 | 699.99] loss=3.02 avg=3.05\n",
            "[520 | 712.58] loss=2.95 avg=3.05\n",
            "[530 | 725.11] loss=3.16 avg=3.05\n",
            "[540 | 737.64] loss=2.94 avg=3.05\n",
            "[550 | 750.18] loss=3.08 avg=3.05\n",
            "[560 | 762.71] loss=2.90 avg=3.05\n",
            "[570 | 775.24] loss=3.05 avg=3.05\n",
            "[580 | 787.82] loss=2.96 avg=3.05\n",
            "[590 | 800.37] loss=2.90 avg=3.04\n",
            "[600 | 812.95] loss=2.89 avg=3.04\n",
            "======== SAMPLE 1 ========\n",
            " growth. If there's anything, is there too much pressure on that, too much pressure on the price, or what would have been the effect of that?\n",
            "Okay. Got it.\n",
            "Okay and when do we be able to understand the net of that, I was wondering what was the effect of that, I was wondering what kind of effect?\n",
            "Sure. And when you talk about price in the medium-term, do you have any thought in terms of, is that more on a normalized basis, is there an element of some demand that's going to be impacted as we move forward?\n",
            "Okay. And -- and what -- the margin improvement, I think it's been very nice to see so far, at least the SG&A. What were the trends in the first quarter? And is that kind of kind of where you expect to see things going forward?\n",
            "Okay. And then, I guess I've been using the phrase, we have a good amount of uncertainty on, as opposed to, obviously some of the questions are, it's pretty clear the uncertainty has been removed, but is there some kind of level of uncertainty as we talk about the environment? I'm just trying to get a sense of things that might move, kind of the uncertainty associated with things like the stock or the stock price has been removed.\n",
            "Just looking for more clarity on the margin. When we talk about the margin, and I know when we talk about the stock and the price, I mean you would talk about, you see maybe a higher margin, which is what I think, you might want to do or perhaps you would want to get to. What would the impact be on the business flow or flow of business to shareholders? Because I think it has been a big issue there.\n",
            "Okay. Well, that leaves us with a much lower margin. Is that what you want to do?\n",
            "Okay. And then, if we were at $500 million for 2018, what would you need, you need to get it to $1 billion to $2 billion in growth?\n",
            "Thank you.\n",
            "Maybe I'll start with your comments about the market and your expectations. And I think, as you made your comments around the product and the pricing, you mentioned the potential of a $700 million tax in 2019. But in the meantime, what would you say are the risks there with this potential thing where the company that you bought you and your current team does a little bit of work, you put all of the pieces together, and we do nothing with it?\n",
            "Okay. And then on the investment, what do you think you'd spend in it and then the cost you'd charge it out?\n",
            "Yes, I was looking for some cost synergies.\n",
            "Yes, okay. I just wanted to confirm, that was in the $1 billion.\n",
            "Okay. So your investments that you need to make here -- like your investment management. Where does that -- where will that go? How much?\n",
            "Okay. And then, just maybe one final clarification. You gave -- the -- I think that -- I'm more concerned -- I'm more cautious on this. You mentioned how you can help the capital structure, which I would agree with. But you talked about your strategy and it seemed like it wasn't working out as we had expected. So I was wondering if you could tell me maybe the -- the size of the capital that you have invested, is this investment in the core business or maybe just the investments you are going to invest in the back half of year and how that's going to improve at all?\n",
            "Understood. Okay. I will get back in line.\n",
            "And then just one maybe a small follow-up. On your -- how much of a risk on the tax side are you seeing on the -- in the back half of this year, because obviously your capital intensity is lower, or your capital intensity is higher, versus 2016. In your opinion, should we think about the -- because you have done all this in the past, so you are a very, very large headwind on the corporate business in the first half of this year versus 2016?\n",
            "Okay.\n",
            "Sure. Thank you. And then, lastly, in your comments around the stock -- the price, the trading commissions at this point you had around $25 million of cost synergies and are that more or is that $25 million of synergies for 2018?\n",
            "Thank you for that.\n",
            "You mentioned more about the long-term potential here on the growth side, where you think you're potentially competing for position up until the early parts of 2018 and also what do you think you can do to increase that from there?\n",
            "Great. Thanks. Very much.\n",
            "My first question is, when we think about the current market environment, any market with higher rates, any type of competition, that's the type of thing that you're concerned with. Just to be clear to you, any competitive market would have to be more high-yield. And what do you\n",
            "\n",
            "[610 | 835.07] loss=2.80 avg=3.03\n",
            "[620 | 847.61] loss=3.00 avg=3.03\n",
            "[630 | 860.16] loss=2.86 avg=3.03\n",
            "[640 | 872.72] loss=2.81 avg=3.03\n",
            "[650 | 885.25] loss=2.85 avg=3.02\n",
            "[660 | 897.83] loss=2.74 avg=3.02\n",
            "[670 | 910.37] loss=2.76 avg=3.01\n",
            "[680 | 922.92] loss=2.87 avg=3.01\n",
            "[690 | 935.45] loss=3.01 avg=3.01\n",
            "[700 | 947.98] loss=2.99 avg=3.01\n",
            "======== SAMPLE 1 ========\n",
            "'d have to be thinking about in this transaction a lot sooner than you would think?\n",
            "Okay. And then with respect to the potential for a fee to sell the proceeds to third parties if you would rather sell the property. And my question was on that. So what are you thinking about -- and I understand your comments -- to sell the proceeds to third parties? Are you still -- I'm in the process of selling that asset? So how would you say that the sale of that asset would be different if you sold the asset?\n",
            "Okay. All right. Thanks, guys.\n",
            "Good morning. I was wondering if you can help us all by giving us sort of the latest on the potential sale of the St. Louis property I guess.\n",
            "Thanks, Steve. I mean, we should think of it as kind of a normal thing for the Company but the potential sale of St. Louis as we go back to 2016 in terms of maybe how it affects the future or whether you could go out and buy it on a second-half call, what kind of potential impact does that suggest to our view on the Company?\n",
            "Okay. And the other question is on the divestiture of the assets in California and then the divestitures of the SFO portfolio for the Company, are those acquisitions -- are those in any way related to the Company?\n",
            "Okay. And do you think that the Company could -- that's the divestiture of the assets in California?\n",
            "Okay, and then the --\n",
            "Is there something there?\n",
            "Okay.\n",
            "Thanks, Steve.\n",
            "Yes, thank you, very much. Maybe I'll have one more. I think there was a comment about the recent decline in the sales rate that is very meaningful because it wasn't the biggest issue. I am curious if you are concerned about that and whether you anticipate that decline continuing?\n",
            "That's good to hear. Thanks, Steve, guys, and good evening.\n",
            "Steve, I guess you all have been guiding to a flat or lower level of sales activity in 2017. I suppose the best case scenario for you is that market growth picks back up as the year moves up. Can you quantify what that was to that point in the 2017 season? And then, how could we be looking at the fourth quarter and where you might have expected that to end up going into 2017?\n",
            "So I guess that's it. And then as a follow-up, I just wonder if I could squeeze a comment right into your opening remarks. Steve, you gave your guidance for 2017 at $0.03 but you mentioned the $0.04 decline in the third quarter. Just wondering if you could quantify what that was to the underlying level in 2016?\n",
            "Is there, just given the $0.05 decline in the second quarter, where would you be looking for the $0.04 decline year over year?\n",
            "Okay. All right. I would love to get your thoughts on the potential sale of the St. Louis asset. Thanks.\n",
            "Okay, and then just lastly as I read the earnings announcement the first part of the question is you alluded to the fact that you were expecting a gross margin expansion, if you will, to be $250 million over the next several years. It looks like the cash flow growth will be higher than you originally expected for the Company. Just how are you thinking of that in the context of all that new cash you are coming in and you are adding to?\n",
            "Got it, thanks, guys.\n",
            "Yes. Just to clarify, I didn't expect that to be an accelerated level of sales activity. So is it going to be higher -- more than how you are planning it out at this point? Because you have talked in the past that this is an accelerated level of growth. Are there other things you can also talk about? And can you just give us a little bit of a sense of how much the backlog might be changing in the months ahead?\n",
            "Okay, that's helpful. And then, one last thing, can I just ask about the 2017 guide? Maybe you could remind us what percentage of revenues were driven by new business growth versus the prior year, if any?\n",
            "Got it, that's all I had. Thank you very much.\n",
            "Hi, guys, I'll just follow-up just a little bit on the pricing. I appreciate it's been a quarter of a decline, but I guess the other question I had was the other way around. Can you talk about what was the relative cost of sales relative to what you've been seeing over the last couple weeks?\n",
            "Okay. All right, that's helpful. I appreciate it. I'll turn it over.\n",
            "Okay, got it, thanks. That's helpful. I think it was asked earlier, but just a question about the 2017 guidance, and I think you said 50 basis points for EBITDA margins, but that's going to -- I was hearing on the call that the guidance would imply maybe a 40 basis point decline over the year, even assuming NOI and net\n",
            "\n",
            "[710 | 970.36] loss=3.05 avg=3.01\n",
            "[720 | 982.90] loss=3.00 avg=3.01\n",
            "[730 | 995.46] loss=2.97 avg=3.01\n",
            "[740 | 1008.00] loss=2.90 avg=3.01\n",
            "[750 | 1020.56] loss=2.90 avg=3.00\n",
            "[760 | 1033.12] loss=2.84 avg=3.00\n",
            "[770 | 1045.66] loss=2.81 avg=3.00\n",
            "[780 | 1058.18] loss=2.98 avg=3.00\n",
            "[790 | 1070.79] loss=3.02 avg=3.00\n",
            "[800 | 1083.31] loss=2.91 avg=3.00\n",
            "======== SAMPLE 1 ========\n",
            " versus back-half run rate. Is that a good way to look at it -- what do you need to do here?\n",
            "Good afternoon, guys. Thank you.I guess my question is actually about your margin. We know the Q1 was relatively strong, but now that you're in the market, how does that book-to-bill performance do to your book-to-bill? And is there a lot of room to go higher?\n",
            "So the margin you get on that kind of run rate on the back half will go up on the back half, and the margin of the book would be going to go up? Is that --?\n",
            "Good, okay, that's helpful. And then just -- you mentioned an increased competitive pressures in sales. I think your comment on the market has been something you've talked about for years, but I'm just curious, on the international front, you said it's been pretty soft for several years and that's all relative to the last couple of quarters. Do you feel -- are there any concerns from competitors or do you feel like there could be a shift to the back end -- back and forth between the international market and the local market as the competitive environment changes?\n",
            "I see. Thanks for taking my question.My next question, I want you guys to follow-up for me a little bit on what I was hoping you could do with the tax benefit. You guys are a little nervous about that, as I said. Can you say whether we're at a good stage and where we are currently from here, or we're not?\n",
            "Thank you. I think your tax expense, you talked about, on the back of the tax plan, is about $15 million and my guess is you're going to raise about $5 million, a lot in tax payer cost. Can you give us a little bit of perspective on -- I know one of your peers was saying you're going to raise the tax rate a little on a normalized basis. Can you just talk about that and any other changes which we might be thinking about on that front?\n",
            "Thanks. Maybe a second question for me.If I remember correctly, you talked about $10 million in CapEx for the quarter with the increased CapEx.Can you comment a little bit, what percentage of the $10 million is going to come from capital raising? Are we going to see an increase in CapEx at some point -- because it kind of came before, if I could take that $10 million out of your plan.\n",
            "Okay. And I understand that your CapEx program is still going to be up as you go through the third quarter. Do you still see -- I understand that -- we can't give guidance for the year, but are you thinking your plan still goes through the fourth quarter or will that go through the third quarter here and then that level of CapEx continue through the fourth quarter?\n",
            "Thanks very much. Good morning, guys.First off, I just want to clarify. I apologize.My question was around the second half of the year. You said you expect to see a pretty substantial ramp-up in business. I assume the second half of this year starts to show some of that?\n",
            "Okay. That makes sense.The other question is, on a sequential basis, you had pretty good organic growth, albeit somewhat slow in some areas. I'm just trying to get a little more granularity on what was going on with the organic growth in the first half. You've had strong organic growth in Q3 and Q4, and you were down, but the last couple of quarters, you had very strong organic growth. So what's kind of driving it? Does it have to do with the fact that a bit of volume pressure was had in Q3 as well as Q4?\n",
            "Okay. And the other question is on the corporate tax rate. I think you highlighted in your presentation that the corporate tax rate was going to come down gradually over the next couple of years. Can you just talk about what you guys can see that you're contemplating this year versus last year?\n",
            "Great. Thank you. Best of luck.\n",
            "Good morning, gentlemen. I just had a question on the free cash flow for the year.You had $45 million of free cash flow, and then $45 million of non-cash non-annuity that you did during the quarter. I understand that to be an organic number. I just wanted to go back to that one, but is that roughly how you would expect the non-cash free cash flow to trend throughout the year?\n",
            "Okay. And then I was curious about a little more detail on how the business will integrate with your capital markets for the remaining year. Is it going to be mainly capital markets? How much is going to flow through? Will it be a bit more in-house or is there -- you're going to be using a little bit more resources to get that integration going? Is it going to be mainly in-house capital markets?\n",
            "Okay.\n",
            "\n",
            "[810 | 1105.49] loss=2.92 avg=2.99\n",
            "[820 | 1118.07] loss=2.88 avg=2.99\n",
            "[830 | 1130.61] loss=2.99 avg=2.99\n",
            "[840 | 1143.13] loss=2.88 avg=2.99\n",
            "[850 | 1155.71] loss=2.94 avg=2.99\n",
            "[860 | 1168.23] loss=2.77 avg=2.99\n",
            "[870 | 1180.76] loss=2.97 avg=2.98\n",
            "[880 | 1193.31] loss=3.01 avg=2.99\n",
            "[890 | 1205.86] loss=2.99 avg=2.99\n",
            "[900 | 1218.40] loss=2.99 avg=2.99\n",
            "======== SAMPLE 1 ========\n",
            ", see that or do you think that -- I understand the impact but the impacts that that's seeing. Maybe in the long-term, the way the market goes. I got the impression that the demand environment is so weak. I think that's the problem with the market for you.\n",
            "It's certainly more in the short term but I was just thinking about if there is a very healthy demand environment that makes the demand environment any weaker. Why can't that be the driver of your sales growth? Or do you think that this is the biggest driver of growth as far as the revenue growth?\n",
            "And, I guess, do you think this sort of a headwind to sales growth or could it go a little bit to the downside? Maybe I'm oversimplifying but that just adds up or gets you down a little bit from a growth perspective.\n",
            "Okay. That's very helpful. And then, lastly, I guess, just have you guys discussed the impact of your new stores being down in the second quarter and you guys said it may be 10% of all stores where you were initially looking at this in the spring or maybe as early as fourth quarter. And when you hear about store closures and you have such a low end in terms of the numbers you're talking about, it is helpful but could you maybe just provide a little more detail on what you expect to achieve once you make those comments and then what percentage of the stores that are going to be closing within the first six months of 2018?\n",
            "Okay. Thanks a lot.\n",
            "Thanks and good morning guys.\n",
            "Thanks for your update on the free rent growth, I think at the beginning I thought it was 5% to 5.5%, now it's 1.6%. How --\n",
            "So the growth this quarter wasn't entirely free rent but kind of what are you -- kind of the free rent growth going into 2018 or what is your sense of how much growth you've had in the back half of the year?\n",
            "Got it. Thanks. And just one quick clarification on the growth guidance. There's been a couple of questions on this. For the first -- we'd seen that for the first time it has been in place and I didn't see quite as much movement in that and so just wondering, is that the impact of the new stores coming back in this time period and just kind of what have you seen? Is that enough to show that you've got more than you had expected in the second quarter?\n",
            "Just following up with that. So in light of what the stores are closing, is there some type of new or the potential that is causing you to be a little more cautious?\n",
            "Okay. Thanks a lot.\n",
            "So in terms of the growth that you guys have had in the last few quarters, so you kind of see that as kind of at a low point of the growth range. Just wondering from a qualitative perspective which type of stores are you seeing the most demand in each of these categories and the types of stores that are opening and what the size of the opportunities is?\n",
            "That's helpful. Can you just give us a little bit of -- I know there are different stores that you're opening as well. But how much incremental, just sort of trying to figure that out. Is it more of a one-time event because the number of stores that you are opening can generate the opportunity just because then you're not closing as many stores as some of your competitors or are you still looking for those kind of large numbers of stores or do you need to maybe consider smaller numbers of stores to maybe kind of grow a lot of stores?\n",
            "Fair enough. Thanks. And sorry if this was asked, but can you just give us a brief summary of how much of the impact of the new stores has been as well as -- kind of an overall impact of how you have seen the revenue growth of the new stores?\n",
            "And is it safe to assume that you all have had pretty good initial guidance or have some of these stores come in earlier than expected?\n",
            "Thanks, guys.\n",
            "Great. Thanks for the update guys, I was wondering if you could give us a little bit of an impression on how you're thinking about it so to speak on the first-half of the year and whether there's some kind of change in the comp environment and I'm wondering if maybe we should expect it to be more reflective of the fourth quarter here as opposed to maybe just on the first-half of the year?\n",
            "Okay. Thanks. And that's --\n",
            "Thank you, that's very helpful. I just was a little shocked on one of the comments that you just made and you obviously talked about the strength in China --\n",
            "So you had mentioned some of the issues you're all dealing with with in terms of pricing and inventory levels and you've seen some of the major players such as Walmart and Target in their various markets, have seen some of the more positive impacts in terms of revenue growth. Wondering if you're seeing any impacts from some of your other areas as far as\n",
            "\n",
            "[910 | 1240.66] loss=2.82 avg=2.98\n",
            "[920 | 1253.19] loss=2.88 avg=2.98\n",
            "[930 | 1265.76] loss=3.00 avg=2.98\n",
            "[940 | 1278.29] loss=2.81 avg=2.98\n",
            "[950 | 1290.82] loss=2.89 avg=2.98\n",
            "[960 | 1303.36] loss=2.90 avg=2.98\n",
            "[970 | 1315.94] loss=2.92 avg=2.97\n",
            "[980 | 1328.48] loss=2.81 avg=2.97\n",
            "[990 | 1341.03] loss=2.84 avg=2.97\n",
            "[1000 | 1353.54] loss=2.82 avg=2.97\n",
            "Saving checkpoint/run1/model-1000\n",
            "WARNING:tensorflow:From /tensorflow-1.15.2/python3.6/tensorflow_core/python/training/saver.py:963: remove_checkpoint (from tensorflow.python.training.checkpoint_management) is deprecated and will be removed in a future version.\n",
            "Instructions for updating:\n",
            "Use standard file APIs to delete files with this prefix.\n"
          ],
          "name": "stdout"
        }
      ]
    },
    {
      "cell_type": "code",
      "metadata": {
        "id": "37Lo5pUU3rWL",
        "outputId": "f50cec51-902f-4186-81e6-4fd215332f6c",
        "colab": {
          "base_uri": "https://localhost:8080/",
          "height": 51
        }
      },
      "source": [
        "sess = gpt2.start_tf_sess()\n",
        "gpt2.load_gpt2(sess)"
      ],
      "execution_count": null,
      "outputs": [
        {
          "output_type": "stream",
          "text": [
            "Loading checkpoint checkpoint/run1/model-1000\n",
            "INFO:tensorflow:Restoring parameters from checkpoint/run1/model-1000\n"
          ],
          "name": "stdout"
        }
      ]
    },
    {
      "cell_type": "code",
      "metadata": {
        "id": "6GFYTB-T4GW2",
        "outputId": "d495505b-b85b-4140-a392-fa3117740aae",
        "colab": {
          "base_uri": "https://localhost:8080/",
          "height": 615
        }
      },
      "source": [
        "gpt2.generate(sess,\n",
        "              length=250,\n",
        "              temperature=0.7,\n",
        "              prefix=\"Can you explain?\",\n",
        "              nsamples=5,\n",
        "              batch_size=5\n",
        "              )"
      ],
      "execution_count": null,
      "outputs": [
        {
          "output_type": "stream",
          "text": [
            "Can you explain?\n",
            "Okay. And then just a quick follow-up on the margin. I know you said the margin is higher than low single-digit but I'm just trying to square that up. So it sounds like you're saying the margin is more of a $4 million to $6 million range. I'm just trying to square that up.\n",
            "Okay. Okay. And then just one quick question on the tax rate. It was up 6% in the quarter, but I'm just trying to get a sense if you expect the tax rate to go higher as we go through the year or a little higher than that? I'm just trying to get a sense of just the timing and timing of when we can see that tax rate.\n",
            "Okay. And then just lastly, on the gross margin, you mentioned a little bit that you expect the strong mix of new business to continue. I'm just trying to get a sense of the timing of when that portion of the business is going to grow.\n",
            "Okay. Okay. Okay.\n",
            "Okay. And then just to follow up on the guidance, you're saying that gross margin is up about 10 basis points versus the fourth quarter. But the historical level, which you don't intend for\n",
            "====================\n",
            "Can you explain?\n",
            "Okay. Great. And then in the press release, you commented on the new agreement, the Health Care Services and Communications business, and you mentioned a new business for a new kind of business for the company.You've been very busy. And now that you've got the new business, I'm curious, are there any things that you can say about the new business, that you can add to that existing business with the new business.\n",
            "Got it. I know you can't talk about the new business at this point, but that would be great.\n",
            "Appreciate the time.\n",
            "Yes. Thanks for the time. I had a quick question. I'm just trying to get a sense of how you're thinking about the material and the incremental growth versus the incremental growth potential for the business. I'm assuming that's going to impact the growth, but I'm just trying to get a sense of how you're thinking about the incremental growth potential for the Business and the material growth potential for the business.\n",
            "Got it. That's all I have. Thanks.\n",
            "Hi. Just a quick question, on the gross margin side of the business. I think you said that the gross margin widened in the quarter, but that was\n",
            "====================\n",
            "Can you explain?\n",
            "Okay. And then I know you gave some color on the out-network EBITDA impact from the new customer acquisition, but just to get a sense for what the Q and A was -- or the year-over-year impact of the new customer acquisition. And then you talk about the magnitude of that. Is that a meaningful magnitude of what the impact was for this quarter and the fourth quarter of last year?\n",
            "Okay. And then just lastly, you talked about the lower rate of interest rate environment. Do you have any -- you talked about the environment that you experienced in the quarter, just to get a sense for -- I mean, it was one of the weaker quarters in the last year. But I guess -- are you experiencing any kind of higher rate of interest rate environment?\n",
            "Just on the Q and A, you talk about the cost reduction and the expense savings that you've achieved. We saw a very positive quarter, albeit from a lower margin perspective. And I don't think there was a large reduction in the investment spend. I guess, is that an expense reduction or is that a higher growth? And do you think that's a -- if you look at what you're doing in the stock, the core\n",
            "====================\n",
            "Can you explain?\n",
            "Okay. And then just a quick follow-up. I think you said in the prepared remarks that you will be operating a 30-day sale plan, I think, for the year. Is that correct?\n",
            "Okay. And then just on the move-out schedules that you talked about, are those partnered or are they all in the same transaction and that -- that's all in the same transaction?\n",
            "And then just finally, just on the payables that you have, I think it was $100 million of payables and then it was still $20 million of payables. Is that all in the same transaction?\n",
            "Okay. And it sounds like you expect a step-down in the payables from the $100 million to $20 million. Is that -- is that a change? Is that --?\n",
            "Okay. And then just one last one. I know it was up about $5 million, but it sounds like it's down about $2 million. Is that correct?\n",
            "Okay. All right. Thanks, guys.\n",
            "Just a couple of questions. In the quarter, it sounds like you had a little bit of a headwind. If you take a step back and look at the gross margin, it\n",
            "====================\n",
            "Can you explain?\n",
            "It's a step up from the first half. But it looks to me like in the first half you gave us a multi-year guidance, and I would like to see what you're kind of thinking in terms of the cadence of the growth opportunities. And I get it that you're just talking about the first half of the year, but you are not really giving us the guidance of a quarter, but should we know that you're going to have more of a cadence of the cadence of the growth? Or if I'm not mistaken, should we be thinking about a little bit more of a dipping in the second half of 2014?\n",
            "Okay, that's helpful. And then maybe just more general. Just thinking about the material cost base and you get the guidance, you can give us some sense. Are there any material area that we should be aware of that's going to add to that guidance? Or is there anything that we should be aware of that you're expecting to be a little bit of a drag?\n",
            "Okay. And then more broadly, on the cost structure of your business, it sounds like as you go into the first half of the year, you're expecting growth in the back half of the year\n",
            "====================\n"
          ],
          "name": "stdout"
        }
      ]
    },
    {
      "cell_type": "code",
      "metadata": {
        "id": "1GUhl7U5_GiK",
        "outputId": "5fd50e58-d7b8-41d0-9f28-7ceafb68f0a9",
        "colab": {
          "base_uri": "https://localhost:8080/",
          "height": 462
        }
      },
      "source": [
        "gpt2.generate(sess)"
      ],
      "execution_count": null,
      "outputs": [
        {
          "output_type": "stream",
          "text": [
            "Understood, thank you.\n",
            "Thank you. Two questions. One is about the management team. One, you said that you are looking to hire a new team for the quarter. Could you also give us an update on how you're thinking about the HSP is going into the second half of 2014 and the outlook for 2015?And then second, the priorities for the Company. I was wondering if you have any thoughts about the strategic review of the Company, the new products? And what the priorities would look like, if you could give us any thoughts on the outlook for 2015? Thank you.\n",
            "Thank you.\n",
            "Thank you. I had a question on the dollar cost of labor. You mentioned that the up-yielding labor cost has been a little bit of a drag and I was wondering if you could just give us an update on your thoughts on the potential impact of the staffing levels that you have in the back half of the year?\n",
            "Thank you.\n",
            "Thank you. Just following up on the question, if I could, could you give us an update on the D&A spend? I was wondering if you could provide some color there?\n",
            "Okay. And then, I guess, how much of the $70 million to $80 million of the $200 million of spending that you had in the quarter came from the D&A line?\n",
            "All right. Great. Thank you very much.\n",
            "Good morning, guys. I'm going to ask a question about the AML pipeline. I think you had mentioned that you might be looking at additional acquisitions. I'm wondering if you're still looking at potential acquisitions that might come in the next quarter?And then I want to ask about the -- what do you -- if you don't see, are you looking at additional acquisitions or potential acquisitions that could come in the next quarter?\n",
            "Okay. That is helpful. And then, on the guidance, it looks like the guidance includes all the incremental incremental earnings that you had in the quarter and includes the acquisition. I'm wondering if you're looking at acquisitions that go in the back half of the year or maybe go in the back half of the next year? Thank you.\n",
            "Okay, thanks.\n",
            "Good morning. First, just on the M&A pipeline, you mentioned that you've got a couple of acquisitions already. Could you just talk about -- if you can give us a sense of the size of what you have in the pipeline? And then, as you look towards acquisitions, can you just give us a sense for the size of what you have in the pipeline?\n",
            "Okay, thanks. And then on the BSA transaction, it sounds like you are looking at this as a potential acquisition. Could you just talk about what the magnitude of the potential size?\n",
            "Great. And then, on the capital return guidance, I think you mentioned that you are looking to get a little bit more aggressive on the cash. So could you just talk about how you are positioned relative to where we are in the cycle and then at what level of your cash is going to be an appropriate amount?\n",
            "Okay, great. And then, on the new quarter, what kind of operating cash and GAAP earnings grew by $5 million quarter-over-quarter?\n",
            "Okay, great. Thanks a lot.\n",
            "Good morning. I just wanted to ask you about your -- I guess, just going back to the two questions. I guess, first, I think, that you said that the gross margin is very strong. I think you also said that you have a lot of growth in gross margin. Is that something that you are trying to hit the 1% to 2% range or is that something more like the 2% to 3% range that you laid out for the full year?\n",
            "Got it. And then, I guess, on the expense base, I think you have about $150 million of free cash that you have to pay out. If you look at the cost of goods sold, the cost of goods sold is more like the $1 million to $1.1 million that you had in the third quarter. Is that even a fair assumption that the cost of goods sold is going to be similar in the second half of the year?\n",
            "Got it. That is helpful. And then, in terms of your gross margin outlook, do you expect that to be material versus your SG&A guidance or any kind of guidance on that one?\n",
            "Okay. And then, just one last question, just to be clear, do you expect to see a recovery in the EBITDA margin post the acquisition? Or do you expect to see that return to the mid single-digit range?\n",
            "All right.\n",
            "The $20 million to $30 million, that is a very good return to the mid single-digit range.\n",
            "So, I mean, that is a pretty good return, I think. I think that is the number that is on the table.\n",
            "Okay, okay, thank you.\n",
            "Hey, guys, thanks\n"
          ],
          "name": "stdout"
        }
      ]
    },
    {
      "cell_type": "code",
      "metadata": {
        "id": "ACvO3OGlIcsF"
      },
      "source": [
        ""
      ],
      "execution_count": null,
      "outputs": []
    }
  ]
}